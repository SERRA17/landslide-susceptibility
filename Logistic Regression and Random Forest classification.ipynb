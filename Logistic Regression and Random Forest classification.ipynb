{
 "cells": [
  {
   "cell_type": "code",
   "execution_count": 21,
   "id": "a3b3a78a",
   "metadata": {},
   "outputs": [],
   "source": [
    "library(lme4)\n",
    "library(pROC)\n",
    "library(creditmodel)\n",
    "library(usdm)"
   ]
  },
  {
   "cell_type": "markdown",
   "id": "b7da470e",
   "metadata": {},
   "source": [
    "# Data preparation"
   ]
  },
  {
   "cell_type": "code",
   "execution_count": 14,
   "id": "cb82233b",
   "metadata": {},
   "outputs": [
    {
     "data": {
      "text/plain": [
       "     img                  y                x               p.a     \n",
       " Length:205476      Min.   :  0.00   Min.   :  0.00   Min.   :0.0  \n",
       " Class :character   1st Qu.: 31.00   1st Qu.: 31.00   1st Qu.:0.0  \n",
       " Mode  :character   Median : 64.00   Median : 64.00   Median :0.5  \n",
       "                    Mean   : 63.72   Mean   : 63.73   Mean   :0.5  \n",
       "                    3rd Qu.: 97.00   3rd Qu.: 97.00   3rd Qu.:1.0  \n",
       "                    Max.   :127.00   Max.   :127.00   Max.   :1.0  \n",
       "      dem                slope          curvature      planform_curvature\n",
       " Min.   :0.0007143   Min.   :0.0000   Min.   :0.0000   Min.   :0.0000    \n",
       " 1st Qu.:0.2902018   1st Qu.:0.3585   1st Qu.:0.4394   1st Qu.:0.4449    \n",
       " Median :0.4883852   Median :0.4587   Median :0.5016   Median :0.5103    \n",
       " Mean   :0.4901263   Mean   :0.4574   Mean   :0.5018   Mean   :0.5101    \n",
       " 3rd Qu.:0.6883618   3rd Qu.:0.5581   3rd Qu.:0.5643   3rd Qu.:0.5752    \n",
       " Max.   :0.9988355   Max.   :0.9753   Max.   :1.0000   Max.   :1.0000    \n",
       " profile_curvature      NDVI             BSI        \n",
       " Min.   :0.0000    Min.   :0.0000   Min.   :0.0000  \n",
       " 1st Qu.:0.4397    1st Qu.:0.4895   1st Qu.:0.1996  \n",
       " Median :0.4951    Median :0.7132   Median :0.3136  \n",
       " Mean   :0.4955    Mean   :0.6348   Mean   :0.3226  \n",
       " 3rd Qu.:0.5510    3rd Qu.:0.8231   3rd Qu.:0.4311  \n",
       " Max.   :1.0000    Max.   :1.0000   Max.   :1.0000  "
      ]
     },
     "metadata": {},
     "output_type": "display_data"
    },
    {
     "name": "stdout",
     "output_type": "stream",
     "text": [
      "'data.frame':\t205476 obs. of  11 variables:\n",
      " $ img               : chr  \"image_1\" \"image_1\" \"image_1\" \"image_1\" ...\n",
      " $ y                 : int  3 2 19 67 113 10 123 38 0 127 ...\n",
      " $ x                 : int  29 126 94 10 98 43 112 123 63 115 ...\n",
      " $ p.a               : int  0 0 0 0 0 0 0 0 0 0 ...\n",
      " $ dem               : num  0.447 0.232 0.317 0.704 0.275 ...\n",
      " $ slope             : num  0.401 0.171 0.165 0.465 0.527 ...\n",
      " $ curvature         : num  0.371 0.329 0.353 0.344 0.267 ...\n",
      " $ planform_curvature: num  0.385 0.352 0.384 0.377 0.353 ...\n",
      " $ profile_curvature : num  0.565 0.593 0.588 0.594 0.675 ...\n",
      " $ NDVI              : num  0.641 0.4 0.66 0.603 0.621 ...\n",
      " $ BSI               : num  0.2333 0.379 0.1567 0.0812 0.2718 ...\n",
      " - attr(*, \"na.action\")= 'omit' Named int [1:1388] 134181 134182 134183 134184 134185 134186 134187 134188 134189 134190 ...\n",
      "  ..- attr(*, \"names\")= chr [1:1388] \"134181\" \"134182\" \"134183\" \"134184\" ...\n"
     ]
    }
   ],
   "source": [
    "setwd(\"~/DATA\")\n",
    "da= read.csv(\"data_extraction.csv\", sep= \";\")\n",
    "da$X= NULL\n",
    "da=na.omit(da)\n",
    "colnames(da)= c(\"img\", \"y\", \"x\", \"p.a\", \"dem\", \"slope\", \"curvature\", \"planform_curvature\", \"profile_curvature\", \"NDVI\", \"BSI\")\n",
    "\n",
    "summary(da)\n",
    "str(da)"
   ]
  },
  {
   "cell_type": "code",
   "execution_count": 15,
   "id": "846c7317",
   "metadata": {},
   "outputs": [],
   "source": [
    "preds= sapply(da[c(5:11)], as.numeric)\n",
    "vifpred=vifstep(preds, th=10) #Variance Inflation Factor\n",
    "predictors=data.frame(exclude(preds, vifpred)) #predictors without collinearity problems\n",
    "df= cbind(pa=da$p.a, predictors) #updated da"
   ]
  },
  {
   "cell_type": "code",
   "execution_count": 16,
   "id": "127a362b",
   "metadata": {},
   "outputs": [],
   "source": [
    "trainTestDf= train_test_split(df) #Split dataset into training and test\n",
    "traindata <- data.frame(trainTestDf$train)\n",
    "testdata <- data.frame(trainTestDf$test)"
   ]
  },
  {
   "cell_type": "markdown",
   "id": "4887485a",
   "metadata": {},
   "source": [
    "# Logistic regression"
   ]
  },
  {
   "cell_type": "code",
   "execution_count": 17,
   "id": "21cb92e1",
   "metadata": {},
   "outputs": [
    {
     "data": {
      "text/plain": [
       "\n",
       "Call:\n",
       "glm(formula = pa ~ dem + slope + curvature + planform_curvature + \n",
       "    profile_curvature + NDVI + BSI, family = binomial(link = \"logit\"), \n",
       "    data = traindata)\n",
       "\n",
       "Deviance Residuals: \n",
       "   Min      1Q  Median      3Q     Max  \n",
       "-1.245  -1.178   1.131   1.176   1.234  \n",
       "\n",
       "Coefficients:\n",
       "                   Estimate Std. Error z value Pr(>|z|)    \n",
       "(Intercept)        -0.21253    0.09322  -2.280   0.0226 *  \n",
       "dem                 0.10808    0.02229   4.848 1.25e-06 ***\n",
       "slope               0.15080    0.03578   4.215 2.50e-05 ***\n",
       "curvature           0.06625    0.13186   0.502   0.6154    \n",
       "planform_curvature -0.06032    0.08392  -0.719   0.4723    \n",
       "profile_curvature   0.12227    0.10544   1.160   0.2462    \n",
       "NDVI                0.01877    0.02270   0.827   0.4084    \n",
       "BSI                 0.05302    0.03204   1.655   0.0980 .  \n",
       "---\n",
       "Signif. codes:  0 '***' 0.001 '**' 0.01 '*' 0.05 '.' 0.1 ' ' 1\n",
       "\n",
       "(Dispersion parameter for binomial family taken to be 1)\n",
       "\n",
       "    Null deviance: 199395  on 143832  degrees of freedom\n",
       "Residual deviance: 199349  on 143825  degrees of freedom\n",
       "AIC: 199365\n",
       "\n",
       "Number of Fisher Scoring iterations: 3\n"
      ]
     },
     "metadata": {},
     "output_type": "display_data"
    }
   ],
   "source": [
    "m1 <- glm(pa ~dem+slope+curvature+planform_curvature+profile_curvature+NDVI+BSI , data = traindata, family = binomial(link = \"logit\")) #fit the model\n",
    "summary(m1)\n"
   ]
  },
  {
   "cell_type": "code",
   "execution_count": 18,
   "id": "bb8fbea8",
   "metadata": {},
   "outputs": [],
   "source": [
    "m1Predict <- predict(m1, testdata,type = \"response\") #Predictions"
   ]
  },
  {
   "cell_type": "code",
   "execution_count": 26,
   "id": "2ac3f0b7",
   "metadata": {},
   "outputs": [
    {
     "name": "stderr",
     "output_type": "stream",
     "text": [
      "Setting levels: control = 0, case = 1\n",
      "\n",
      "Setting direction: controls < cases\n",
      "\n"
     ]
    },
    {
     "name": "stdout",
     "output_type": "stream",
     "text": [
      "[1] \"AUC: 50.8779\"\n"
     ]
    },
    {
     "data": {
      "image/png": "[encoded data removed]",
      "text/plain": [
       "plot without title"
      ]
     },
     "metadata": {
      "image/png": {
       "height": 420,
       "width": 420
      }
     },
     "output_type": "display_data"
    }
   ],
   "source": [
    "lrRoc <- pROC::roc(response=testdata$pa, predictor=m1Predict, plot=TRUE,percent = TRUE) #Roc curve\n",
    "auc <- round(lrRoc$auc,digit = 4) #Calculate Area Under receiver operating Curve\n",
    "plot(lrRoc)\n",
    "print(paste(\"AUC:\",auc))"
   ]
  },
  {
   "cell_type": "code",
   "execution_count": 28,
   "id": "b263baee",
   "metadata": {},
   "outputs": [
    {
     "name": "stdout",
     "output_type": "stream",
     "text": [
      "[1] \"accuracy: 0.504550395016466\"\n",
      "[1] \"precision: 0.503479155321595\"\n",
      "[1] \"recall: 0.540833902050632\"\n",
      "[1] \"f1 score: 0.521488444966706\"\n"
     ]
    }
   ],
   "source": [
    "#Calculate precision, recall and f1 (logistic regression)\n",
    "result<- list()\n",
    "table_mat<- list()\n",
    "prec<- list()\n",
    "rec<- list()\n",
    "accuracy_Test<- list()\n",
    "\n",
    "\n",
    "model <- m1\n",
    "result <- m1Predict #predictions\n",
    "table_mat <- table(testdata$pa, result > 0.5) #confusion matrix\n",
    "accuracy_Test <- sum(diag(table_mat)) / sum(table_mat) #accuracy\n",
    "precision <- function(matrix) {\n",
    "  tp <- matrix[2, 2]# true positive\n",
    "  fp <- matrix[1, 2]# false positive\n",
    "  return (tp / (tp + fp)) #precision\n",
    "}\n",
    "prec <- precision(table_mat)\n",
    "recall <- function(matrix) {\n",
    "  tp <- matrix[2, 2] #true positive\n",
    "  fn <- matrix[2, 1] #false negative\n",
    "  return (tp / (tp + fn)) #recall\n",
    "}\n",
    "rec <- recall(table_mat)\n",
    "\n",
    "accuracy=unlist(accuracy_Test)\n",
    "accuracy=mean(accuracy)\n",
    "print(paste(\"accuracy:\", accuracy))\n",
    "\n",
    "prec= unlist(prec)                \n",
    "prec=mean(prec)\n",
    "print(paste(\"precision:\", prec))\n",
    "\n",
    "rec=unlist(rec)\n",
    "reSIc=mean(rec)\n",
    "print(paste(\"recall:\", rec))\n",
    "\n",
    "f1 <- 2 * ((prec * rec) / (prec + rec)) #F1 score\n",
    "print(paste(\"f1 score:\", f1))"
   ]
  },
  {
   "cell_type": "markdown",
   "id": "d3c723a4",
   "metadata": {},
   "source": [
    "# Random forest"
   ]
  },
  {
   "cell_type": "code",
   "execution_count": 34,
   "id": "9fa5c4bf",
   "metadata": {},
   "outputs": [],
   "source": [
    "library(randomForest)"
   ]
  },
  {
   "cell_type": "code",
   "execution_count": 35,
   "id": "44db6721",
   "metadata": {},
   "outputs": [],
   "source": [
    "traindata$pa <- as.factor(traindata$pa) #convert response variable to factor in order to perform classification."
   ]
  },
  {
   "cell_type": "code",
   "execution_count": 36,
   "id": "1983644e",
   "metadata": {},
   "outputs": [],
   "source": [
    "m2= randomForest(pa~dem+slope+curvature+planform_curvature+profile_curvature+NDVI+BSI, data=traindata,ntree=500, importance=TRUE) #fit the model"
   ]
  },
  {
   "cell_type": "code",
   "execution_count": 37,
   "id": "16a665a2",
   "metadata": {},
   "outputs": [],
   "source": [
    "m2Predict <- factor(predict(m2, testdata,type = \"response\"), ordered = TRUE) #predict"
   ]
  },
  {
   "cell_type": "code",
   "execution_count": 38,
   "id": "3f366e7d",
   "metadata": {},
   "outputs": [
    {
     "name": "stderr",
     "output_type": "stream",
     "text": [
      "Setting levels: control = 0, case = 1\n",
      "\n",
      "Setting direction: controls < cases\n",
      "\n"
     ]
    },
    {
     "name": "stdout",
     "output_type": "stream",
     "text": [
      "[1] \"AUC: 55.7095\"\n"
     ]
    },
    {
     "data": {
      "image/png": "[encoded data removed]",
      "text/plain": [
       "plot without title"
      ]
     },
     "metadata": {
      "image/png": {
       "height": 420,
       "width": 420
      }
     },
     "output_type": "display_data"
    }
   ],
   "source": [
    "#ROC and AUC\n",
    "lrRoc <- pROC::roc(response=testdata$pa, predictor = m2Predict, plot=TRUE,percent = TRUE)\n",
    "auc <- round(lrRoc$auc,digit = 4)\n",
    "plot(lrRoc)\n",
    "print(paste(\"AUC:\",auc))"
   ]
  },
  {
   "cell_type": "code",
   "execution_count": 41,
   "id": "c4e7318b",
   "metadata": {},
   "outputs": [
    {
     "name": "stdout",
     "output_type": "stream",
     "text": [
      "[1] \"accuracy: 0.557062440179745\"\n",
      "[1] \"precision: 0.554119446785926\"\n",
      "[1] \"recall: 0.576809333463326\"\n",
      "[1] \"f1 score: 0.565236775898857\"\n"
     ]
    }
   ],
   "source": [
    "#Calculate precision, recall and f1 (Random forest)\n",
    "model <- m2\n",
    "result <- as.numeric(m2Predict) #predictions\n",
    "table_mat <- table(testdata$pa, result > 1.5) #confusion matrix\n",
    "accuracy_Test <- sum(diag(table_mat)) / sum(table_mat) #accuracy\n",
    "precision <- function(matrix) {\n",
    "  tp <- matrix[2, 2]# true positive\n",
    "  fp <- matrix[1, 2]# false positive\n",
    "  return (tp / (tp + fp)) #precision\n",
    "}\n",
    "prec <- precision(table_mat)\n",
    "recall <- function(matrix) {\n",
    "  tp <- matrix[2, 2] #true positive\n",
    "  fn <- matrix[2, 1] #false negative\n",
    "  return (tp / (tp + fn)) #recall\n",
    "}\n",
    "rec <- recall(table_mat)\n",
    "\n",
    "accuracy=unlist(accuracy_Test)\n",
    "accuracy=mean(accuracy)\n",
    "print(paste(\"accuracy:\", accuracy))\n",
    "\n",
    "prec= unlist(prec)                \n",
    "prec=mean(prec)\n",
    "print(paste(\"precision:\", prec))\n",
    "\n",
    "rec=unlist(rec)\n",
    "reSIc=mean(rec)\n",
    "print(paste(\"recall:\", rec))\n",
    "\n",
    "f1 <- 2 * ((prec * rec) / (prec + rec)) #F1 score\n",
    "print(paste(\"f1 score:\", f1))"
   ]
  }
 ],
 "metadata": {
  "kernelspec": {
   "display_name": "Python 3 (ipykernel)",
   "language": "python",
   "name": "python3"
  },
  "language_info": {
   "codemirror_mode": {
    "name": "ipython",
    "version": 3
   },
   "file_extension": ".py",
   "mimetype": "text/x-python",
   "name": "python",
   "nbconvert_exporter": "python",
   "pygments_lexer": "ipython3",
   "version": "3.7.6"
  }
 },
 "nbformat": 4,
 "nbformat_minor": 5
}
